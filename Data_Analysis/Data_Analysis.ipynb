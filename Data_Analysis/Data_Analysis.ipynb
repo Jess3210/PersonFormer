{
 "cells": [
  {
   "cell_type": "code",
   "execution_count": 1,
   "id": "dd515aff",
   "metadata": {},
   "outputs": [],
   "source": [
    "import pickle\n",
    "import matplotlib.pyplot as plt\n",
    "import imageio #read image\n",
    "import cv2\n",
    "import numpy as np\n",
    "from dataloader_data_analysis import *"
   ]
  },
  {
   "cell_type": "code",
   "execution_count": 2,
   "id": "a7efdcf4",
   "metadata": {},
   "outputs": [],
   "source": [
    "#open pickle var\n",
    "def openFilePkl(path):\n",
    "    with open(path, 'rb') as f:\n",
    "        loaded = pickle.load(f, encoding=\"latin1\") \n",
    "    return loaded"
   ]
  },
  {
   "cell_type": "code",
   "execution_count": 3,
   "id": "2cd08884",
   "metadata": {},
   "outputs": [],
   "source": [
    "testset = ChaLearnDataset('./ChaLearn_First_Impression/test/', 'test_video', 'test_transcription/transcription_test.pkl', 'test_groundtruth/annotation_test.pkl', 'eth_gender_annotations_test.csv')"
   ]
  },
  {
   "cell_type": "code",
   "execution_count": 25,
   "id": "0653009e",
   "metadata": {},
   "outputs": [
    {
     "name": "stdout",
     "output_type": "stream",
     "text": [
      "{'transcription': \"So I'm going to take a bite and experience it with you guys. [you heard it all? 00:00:07]. Now when you don't bite the seeds, see -\", 'groundtruth': [0.4205607476635514, 0.6593406593406592, 0.47572815533980584, 0.5625, 0.5777777777777777], 'gender': '1', 'ethnicity': '2', 'name': '--Ymqszjv54.000.mp4'}\n"
     ]
    }
   ],
   "source": [
    "print(testset[0])"
   ]
  },
  {
   "cell_type": "code",
   "execution_count": 5,
   "id": "9da6c15d",
   "metadata": {},
   "outputs": [],
   "source": [
    "#--------Analysis Model with Metadata (2) middle layer -------------"
   ]
  },
  {
   "cell_type": "code",
   "execution_count": 6,
   "id": "df595dfd",
   "metadata": {},
   "outputs": [],
   "source": [
    "resModelMeta2 = openFilePkl('resultsModelMeta2.pickle')"
   ]
  },
  {
   "cell_type": "code",
   "execution_count": 7,
   "id": "19446fcc",
   "metadata": {},
   "outputs": [
    {
     "name": "stdout",
     "output_type": "stream",
     "text": [
      "{'Name': '9RfE2-aTvaM.002.mp4', 'Accuracy per Trait': tensor([0.9510, 0.9534, 0.9997, 0.8703, 0.8338], device='cuda:0'), 'Accuracy Average': tensor(0.9217, device='cuda:0'), 'MSE per Trait:': tensor([2.3973e-03, 2.1714e-03, 8.4398e-08, 1.6811e-02, 2.7621e-02],\n",
      "       device='cuda:0')}\n"
     ]
    }
   ],
   "source": [
    "print(resModelMeta2[0])"
   ]
  },
  {
   "cell_type": "code",
   "execution_count": 8,
   "id": "2474a7f0",
   "metadata": {},
   "outputs": [],
   "source": [
    "def accuracyAnalysis(data):\n",
    "    accuracy25 = []\n",
    "    accuracy50 = []\n",
    "    accuracy75 = []\n",
    "    accuracy90 = []\n",
    "    accuracy100 = []\n",
    "    \n",
    "    for i in data:\n",
    "        if i['Accuracy Average'] <= 0.25:\n",
    "            accuracy25.append(i)\n",
    "        elif i['Accuracy Average'] > 0.25 and i['Accuracy Average'] <= 0.50:\n",
    "            accuracy50.append(i)\n",
    "        elif i['Accuracy Average'] > 0.50 and i['Accuracy Average'] <= 0.75:\n",
    "            accuracy75.append(i)\n",
    "        elif i['Accuracy Average'] > 0.75 and i['Accuracy Average'] <= 0.95:\n",
    "            accuracy90.append(i)\n",
    "        elif i['Accuracy Average'] > 0.95 and i['Accuracy Average'] <= 1.0:\n",
    "            accuracy100.append(i)\n",
    "    \n",
    "    return accuracy25, accuracy50, accuracy75, accuracy90, accuracy100"
   ]
  },
  {
   "cell_type": "code",
   "execution_count": 9,
   "id": "69ae46a2",
   "metadata": {},
   "outputs": [],
   "source": [
    "def getMaxIndex(dataset, prediction):\n",
    "    counterExtra = 0\n",
    "    counterAgree = 0\n",
    "    counterCons = 0\n",
    "    counterNeuro = 0\n",
    "    counterOpen = 0\n",
    "    \n",
    "    for i in prediction: \n",
    "        for j in dataset:\n",
    "            if i['Name'] == j['name']:\n",
    "                max_value = max(j['groundtruth'])\n",
    "                max_index = j['groundtruth'].index(max_value)\n",
    "\n",
    "                if max_index == 0:\n",
    "                    counterExtra += 1\n",
    "                elif max_index == 1:\n",
    "                    counterAgree += 1\n",
    "                elif max_index == 2:\n",
    "                    counterCons += 1\n",
    "                elif max_index == 3:\n",
    "                    counterNeuro += 1\n",
    "                elif max_index == 4:\n",
    "                    counterOpen += 1\n",
    "    \n",
    "    print('Num max extraversion: ', counterExtra)\n",
    "    print('Num max agree: ', counterAgree)\n",
    "    print('Num max cons: ', counterCons)\n",
    "    print('Num max neuro: ', counterNeuro)\n",
    "    print('Num max open: ', counterOpen)\n",
    "    \n",
    "    return counterExtra, counterAgree, counterCons, counterNeuro, counterOpen"
   ]
  },
  {
   "cell_type": "code",
   "execution_count": 10,
   "id": "b60a8a53",
   "metadata": {},
   "outputs": [],
   "source": [
    "def getMaxIndexTest(dataset):\n",
    "    counterExtra = 0\n",
    "    counterAgree = 0\n",
    "    counterCons = 0\n",
    "    counterNeuro = 0\n",
    "    counterOpen = 0\n",
    "    \n",
    "    for i in dataset:\n",
    "        max_value = max(i['groundtruth'])\n",
    "        max_index = i['groundtruth'].index(max_value)\n",
    "\n",
    "        if max_index == 0:\n",
    "            counterExtra += 1\n",
    "        elif max_index == 1:\n",
    "            counterAgree += 1\n",
    "        elif max_index == 2:\n",
    "            counterCons += 1\n",
    "        elif max_index == 3:\n",
    "            counterNeuro += 1\n",
    "        elif max_index == 4:\n",
    "            counterOpen += 1\n",
    "    \n",
    "    print('Num max extraversion: ', counterExtra)\n",
    "    print('Num max agree: ', counterAgree)\n",
    "    print('Num max cons: ', counterCons)\n",
    "    print('Num max neuro: ', counterNeuro)\n",
    "    print('Num max open: ', counterOpen)\n",
    "    \n",
    "    return counterExtra, counterAgree, counterCons, counterNeuro, counterOpen"
   ]
  },
  {
   "cell_type": "code",
   "execution_count": 11,
   "id": "2887b008",
   "metadata": {},
   "outputs": [],
   "source": [
    "def genderEthnicityDistribution(dataset, prediction):\n",
    "    counterMale = 0\n",
    "    counterFemale = 0\n",
    "    counterAsian = 0\n",
    "    counterCaucasian = 0\n",
    "    counterAfricanAmerican = 0\n",
    "    for i in prediction: \n",
    "        for j in dataset:\n",
    "            if i['Name'] == j['name']:\n",
    "                if int(j['gender']) == 1:\n",
    "                    counterMale += 1\n",
    "                elif int(j['gender']) == 2:\n",
    "                    counterFemale += 1\n",
    "                if int(j['ethnicity']) == 1:\n",
    "                    counterAsian += 1\n",
    "                elif int(j['ethnicity']) == 2:\n",
    "                    counterCaucasian += 1\n",
    "                elif int(j['ethnicity']) == 3:\n",
    "                    counterAfricanAmerican += 1\n",
    "    \n",
    "    print('Male: ', counterMale)\n",
    "    print('Female: ', counterFemale)\n",
    "    print('Asian: ', counterAsian)\n",
    "    print('Caucasian: ', counterCaucasian)\n",
    "    print('African American: ', counterAfricanAmerican)\n",
    "    \n",
    "    return counterMale, counterFemale, counterAsian, counterCaucasian, counterAfricanAmerican"
   ]
  },
  {
   "cell_type": "code",
   "execution_count": 12,
   "id": "be0a8d38",
   "metadata": {},
   "outputs": [],
   "source": [
    "def genderEthnicityDistributionTest(dataset):\n",
    "    counterMale = 0\n",
    "    counterFemale = 0\n",
    "    counterAsian = 0\n",
    "    counterCaucasian = 0\n",
    "    counterAfricanAmerican = 0\n",
    "    \n",
    "    for i in dataset:\n",
    "        if int(i['gender']) == 1:\n",
    "            counterMale += 1\n",
    "        elif int(i['gender']) == 2:\n",
    "            counterFemale += 1\n",
    "        if int(i['ethnicity']) == 1:\n",
    "            counterAsian += 1\n",
    "        elif int(i['ethnicity']) == 2:\n",
    "            counterCaucasian += 1\n",
    "        elif int(i['ethnicity']) == 3:\n",
    "            counterAfricanAmerican += 1\n",
    "    \n",
    "    print('Male: ', counterMale)\n",
    "    print('Female: ', counterFemale)\n",
    "    print('Asian: ', counterAsian)\n",
    "    print('Caucasian: ', counterCaucasian)\n",
    "    print('African American: ', counterAfricanAmerican)\n",
    "    \n",
    "    return counterMale, counterFemale, counterAsian, counterCaucasian, counterAfricanAmerican"
   ]
  },
  {
   "cell_type": "code",
   "execution_count": 13,
   "id": "f7de1461",
   "metadata": {},
   "outputs": [],
   "source": [
    "def getPercentageofOrig(testOrig, prediction):\n",
    "    percentage = (prediction*100)/testOrig\n",
    "    return percentage"
   ]
  },
  {
   "cell_type": "code",
   "execution_count": 36,
   "id": "bb9d8e2e",
   "metadata": {},
   "outputs": [],
   "source": [
    "def collectPartOfRes(val, num = 20):\n",
    "    counterExtra = 0\n",
    "    counterAgree = 0\n",
    "    counterCons = 0\n",
    "    counterNeuro = 0\n",
    "    counterOpen = 0\n",
    "    \n",
    "    saveRes = []\n",
    "    \n",
    "    for i in val:\n",
    "        max_value = max(i['Accuracy per Trait'])\n",
    "        max_index = i['Accuracy per Trait'].tolist().index(max_value)\n",
    "\n",
    "        if max_index == 0 and counterExtra < num:\n",
    "            counterExtra += 1\n",
    "            saveRes.append(i)\n",
    "        elif max_index == 1 and counterAgree < num:\n",
    "            counterAgree += 1\n",
    "            saveRes.append(i)\n",
    "        elif max_index == 2 and counterCons < num:\n",
    "            counterCons += 1\n",
    "            saveRes.append(i)\n",
    "        elif max_index == 3 and counterNeuro < num:\n",
    "            counterNeuro += 1\n",
    "            saveRes.append(i)\n",
    "        elif max_index == 4 and counterOpen < num:\n",
    "            counterOpen += 1\n",
    "            saveRes.append(i)\n",
    "    return saveRes"
   ]
  },
  {
   "cell_type": "code",
   "execution_count": 30,
   "id": "4d78fb77",
   "metadata": {},
   "outputs": [],
   "source": [
    "def showVidWithTrait(val, orig):\n",
    "    for i in val:\n",
    "        for j in orig:\n",
    "            if i['Name'] == j['name']:\n",
    "                max_value = max(i['Accuracy per Trait'])\n",
    "                max_index = i['Accuracy per Trait'].tolist().index(max_value)\n",
    "                \n",
    "                max_value_orig = max(j['groundtruth'])\n",
    "                max_index_orig = j['groundtruth'].index(max_value_orig)\n",
    "                \n",
    "                if max_index == 0:\n",
    "                    print('Extraversion: {}, {}, MAA: {}'.format(i['Name'], max_value, i['Accuracy Average']))\n",
    "                elif max_index == 1:\n",
    "                    print('Agreeableness: {}, {}, MAA: {}'.format(i['Name'], max_value, i['Accuracy Average']))\n",
    "                elif max_index == 2:\n",
    "                    print('Consiouness: {}, {}, MAA: {}'.format(i['Name'], max_value, i['Accuracy Average']))\n",
    "                elif max_index == 3:\n",
    "                    print('Neuroticism: {}, {}, MAA: {}'.format(i['Name'], max_value, i['Accuracy Average']))\n",
    "                elif max_index == 4:\n",
    "                    print('Openness: {}, {}, MAA: {}'.format(i['Name'], max_value, i['Accuracy Average']))  \n",
    "                \n",
    "                if max_index_orig == 0:\n",
    "                    print('Extraversion Orig {}, Gender: {}, Ethn: {}: '.format(max_value_orig, j['gender'], j['ethnicity']))\n",
    "                elif max_index_orig == 1:\n",
    "                    print('Agreeableness Orig {}, Gender: {}, Ethn: {}: '.format(max_value_orig, j['gender'], j['ethnicity']))\n",
    "                elif max_index_orig == 2:\n",
    "                    print('Consiouness Orig {}, Gender: {}, Ethn: {}: '.format(max_value_orig, j['gender'], j['ethnicity']))\n",
    "                elif max_index_orig == 3:\n",
    "                    print('Neuroticism Orig {}, Gender: {}, Ethn: {}: '.format(max_value_orig, j['gender'], j['ethnicity']))\n",
    "                elif max_index_orig == 4:\n",
    "                    print('Openness Orig {}, Gender: {}, Ethn: {}: '.format(max_value_orig, j['gender'], j['ethnicity']))  "
   ]
  },
  {
   "cell_type": "code",
   "execution_count": 14,
   "id": "317d92b5",
   "metadata": {},
   "outputs": [],
   "source": [
    "acc25, acc50, acc75, acc90, acc100 = accuracyAnalysis(resModelMeta2)"
   ]
  },
  {
   "cell_type": "code",
   "execution_count": 15,
   "id": "681250be",
   "metadata": {},
   "outputs": [
    {
     "name": "stdout",
     "output_type": "stream",
     "text": [
      "Accuracy <= 0.25:  0\n",
      "Accuracy > 0.25 and <= 0.50:  0\n",
      "Accuracy > 0.50 and <= 0.75:  31\n",
      "Accuracy > 0.75 and <= 0.90:  1669\n",
      "Accuracy > 0.90 and <= 1.00:  299\n"
     ]
    }
   ],
   "source": [
    "#----Show amount of data per accuracy frame ---\n",
    "print('Accuracy <= 0.25: ', len(acc25))\n",
    "print('Accuracy > 0.25 and <= 0.50: ', len(acc50))\n",
    "print('Accuracy > 0.50 and <= 0.75: ', len(acc75))\n",
    "print('Accuracy > 0.75 and <= 0.90: ', len(acc90))\n",
    "print('Accuracy > 0.90 and <= 1.00: ', len(acc100))"
   ]
  },
  {
   "cell_type": "code",
   "execution_count": 16,
   "id": "96b62f16",
   "metadata": {},
   "outputs": [
    {
     "name": "stdout",
     "output_type": "stream",
     "text": [
      "Accuracy <= 0.25:  0\n",
      "Accuracy > 0.25 and <= 0.50:  0\n",
      "Accuracy > 0.50 and <= 0.75:  31\n",
      "Accuracy > 0.75 and <= 0.95:  1669\n",
      "Accuracy > 0.95 and <= 1.00:  299\n"
     ]
    }
   ],
   "source": [
    "#----Show amount of data per accuracy frame ---\n",
    "print('Accuracy <= 0.25: ', len(acc25))\n",
    "print('Accuracy > 0.25 and <= 0.50: ', len(acc50))\n",
    "print('Accuracy > 0.50 and <= 0.75: ', len(acc75))\n",
    "print('Accuracy > 0.75 and <= 0.95: ', len(acc90))\n",
    "print('Accuracy > 0.95 and <= 1.00: ', len(acc100))"
   ]
  },
  {
   "cell_type": "code",
   "execution_count": 17,
   "id": "0a3daa5f",
   "metadata": {},
   "outputs": [
    {
     "name": "stdout",
     "output_type": "stream",
     "text": [
      "tensor(0.6878, device='cuda:0') VuadgOz6T7s.005.mp4\n",
      "tensor(0.7286, device='cuda:0') hquzfo9MVDo.005.mp4\n",
      "tensor(0.7474, device='cuda:0') 2bAsXLQjlt8.003.mp4\n",
      "tensor(0.7479, device='cuda:0') ihEFzP5S57g.002.mp4\n",
      "tensor(0.7339, device='cuda:0') sSR1a5XW7n4.003.mp4\n",
      "tensor(0.7141, device='cuda:0') Pc-oQQwkIv8.002.mp4\n",
      "tensor(0.5774, device='cuda:0') ZkypeQdzgvQ.001.mp4\n",
      "tensor(0.6698, device='cuda:0') 4bDOetaLvZs.002.mp4\n",
      "tensor(0.7464, device='cuda:0') Tg8a_iNEamM.002.mp4\n",
      "tensor(0.7452, device='cuda:0') VvSk5m90xOs.001.mp4\n",
      "tensor(0.6659, device='cuda:0') omeHsKF7InA.003.mp4\n",
      "tensor(0.7472, device='cuda:0') BS0wgLXqFgc.002.mp4\n",
      "tensor(0.6897, device='cuda:0') jFx6AEw6viQ.003.mp4\n",
      "tensor(0.7275, device='cuda:0') xsDABUrvs6w.003.mp4\n",
      "tensor(0.7234, device='cuda:0') fsLf6Xv_Gbk.003.mp4\n",
      "tensor(0.7333, device='cuda:0') -R2SZu3SYgM.001.mp4\n",
      "tensor(0.6830, device='cuda:0') TkCDs7NlXyU.003.mp4\n",
      "tensor(0.7126, device='cuda:0') ASDpn9yOYAo.001.mp4\n",
      "tensor(0.7281, device='cuda:0') SPMDX6qt4I4.000.mp4\n",
      "tensor(0.7135, device='cuda:0') TPRQyuiNYmI.001.mp4\n",
      "tensor(0.6637, device='cuda:0') VuadgOz6T7s.004.mp4\n",
      "tensor(0.7442, device='cuda:0') xsDABUrvs6w.004.mp4\n",
      "tensor(0.6430, device='cuda:0') NG8qWulkRM4.003.mp4\n",
      "tensor(0.7421, device='cuda:0') vr5FWHUkYRM.002.mp4\n",
      "tensor(0.7362, device='cuda:0') omeHsKF7InA.004.mp4\n",
      "tensor(0.7449, device='cuda:0') xqGyF2T3pso.004.mp4\n",
      "tensor(0.7079, device='cuda:0') KRo-x2uoHUg.002.mp4\n",
      "tensor(0.7266, device='cuda:0') 9KAqOrdiZ4I.003.mp4\n",
      "tensor(0.6516, device='cuda:0') jFx6AEw6viQ.001.mp4\n",
      "tensor(0.7418, device='cuda:0') xsDABUrvs6w.005.mp4\n",
      "tensor(0.7341, device='cuda:0') Agg7z10B_iY.003.mp4\n"
     ]
    }
   ],
   "source": [
    "for i in acc75:\n",
    "    print(i['Accuracy Average'], i['Name'])"
   ]
  },
  {
   "cell_type": "code",
   "execution_count": 31,
   "id": "3f8a46ca",
   "metadata": {
    "scrolled": false
   },
   "outputs": [
    {
     "name": "stdout",
     "output_type": "stream",
     "text": [
      "Extraversion: VuadgOz6T7s.005.mp4, 0.7139565348625183, MAA: 0.6877605319023132\n",
      "Consiouness Orig 0.31067961165048547, Gender: 1, Ethn: 2: \n",
      "Openness: hquzfo9MVDo.005.mp4, 0.8153687715530396, MAA: 0.7285610437393188\n",
      "Openness Orig 0.3555555555555556, Gender: 1, Ethn: 2: \n",
      "Consiouness: 2bAsXLQjlt8.003.mp4, 0.778627872467041, MAA: 0.7474005222320557\n",
      "Openness Orig 0.888888888888889, Gender: 2, Ethn: 2: \n",
      "Openness: ihEFzP5S57g.002.mp4, 0.8990147113800049, MAA: 0.7479482293128967\n",
      "Openness Orig 0.5, Gender: 2, Ethn: 2: \n",
      "Agreeableness: sSR1a5XW7n4.003.mp4, 0.8519648313522339, MAA: 0.733910083770752\n",
      "Agreeableness Orig 0.5384615384615384, Gender: 1, Ethn: 3: \n",
      "Openness: Pc-oQQwkIv8.002.mp4, 0.8547263145446777, MAA: 0.7141108512878418\n",
      "Openness Orig 0.3111111111111111, Gender: 1, Ethn: 2: \n",
      "Consiouness: ZkypeQdzgvQ.001.mp4, 0.6165508031845093, MAA: 0.5773535966873169\n",
      "Consiouness Orig 0.2038834951456311, Gender: 2, Ethn: 2: \n",
      "Extraversion: 4bDOetaLvZs.002.mp4, 0.7531374096870422, MAA: 0.6697654128074646\n",
      "Extraversion Orig 0.16822429906542055, Gender: 2, Ethn: 2: \n",
      "Consiouness: Tg8a_iNEamM.002.mp4, 0.8430991172790527, MAA: 0.7464319467544556\n",
      "Consiouness Orig 0.2912621359223301, Gender: 2, Ethn: 2: \n",
      "Extraversion: VvSk5m90xOs.001.mp4, 0.8056002855300903, MAA: 0.7452356815338135\n",
      "Consiouness Orig 0.2621359223300971, Gender: 1, Ethn: 2: \n",
      "Consiouness: omeHsKF7InA.003.mp4, 0.7660503387451172, MAA: 0.6658549308776855\n",
      "Agreeableness Orig 0.25274725274725274, Gender: 2, Ethn: 2: \n",
      "Neuroticism: BS0wgLXqFgc.002.mp4, 0.8114010095596313, MAA: 0.7472113370895386\n",
      "Agreeableness Orig 0.6483516483516484, Gender: 1, Ethn: 2: \n",
      "Extraversion: jFx6AEw6viQ.003.mp4, 0.7455310225486755, MAA: 0.6896659135818481\n",
      "Openness Orig 0.2777777777777778, Gender: 1, Ethn: 2: \n",
      "Openness: xsDABUrvs6w.003.mp4, 0.7540370225906372, MAA: 0.7274914383888245\n",
      "Openness Orig 0.2777777777777778, Gender: 1, Ethn: 2: \n",
      "Openness: fsLf6Xv_Gbk.003.mp4, 0.7905744314193726, MAA: 0.7233641743659973\n",
      "Agreeableness Orig 0.857142857142857, Gender: 2, Ethn: 2: \n",
      "Openness: -R2SZu3SYgM.001.mp4, 0.8263533115386963, MAA: 0.7332755923271179\n",
      "Openness Orig 0.3777777777777778, Gender: 2, Ethn: 2: \n",
      "Extraversion: TkCDs7NlXyU.003.mp4, 0.7406277656555176, MAA: 0.6829703450202942\n",
      "Consiouness Orig 0.8155339805825244, Gender: 2, Ethn: 2: \n",
      "Agreeableness: ASDpn9yOYAo.001.mp4, 0.8233861923217773, MAA: 0.7126268744468689\n",
      "Neuroticism Orig 0.7604166666666666, Gender: 1, Ethn: 2: \n",
      "Neuroticism: SPMDX6qt4I4.000.mp4, 0.7604121565818787, MAA: 0.7281259894371033\n",
      "Openness Orig 0.26666666666666666, Gender: 1, Ethn: 2: \n",
      "Consiouness: TPRQyuiNYmI.001.mp4, 0.7751343846321106, MAA: 0.7134653925895691\n",
      "Agreeableness Orig 0.912087912087912, Gender: 1, Ethn: 2: \n",
      "Extraversion: VuadgOz6T7s.004.mp4, 0.7424784898757935, MAA: 0.6637107729911804\n",
      "Agreeableness Orig 0.2857142857142857, Gender: 1, Ethn: 2: \n",
      "Extraversion: xsDABUrvs6w.004.mp4, 0.8558170795440674, MAA: 0.7442435622215271\n",
      "Consiouness Orig 0.33980582524271846, Gender: 1, Ethn: 2: \n",
      "Extraversion: NG8qWulkRM4.003.mp4, 0.6789873838424683, MAA: 0.6430437564849854\n",
      "Openness Orig 0.22222222222222224, Gender: 2, Ethn: 2: \n",
      "Extraversion: vr5FWHUkYRM.002.mp4, 0.7995916604995728, MAA: 0.7420834898948669\n",
      "Openness Orig 0.3666666666666667, Gender: 2, Ethn: 2: \n",
      "Consiouness: omeHsKF7InA.004.mp4, 0.8225663900375366, MAA: 0.7361690998077393\n",
      "Consiouness Orig 0.2912621359223301, Gender: 2, Ethn: 2: \n",
      "Extraversion: xqGyF2T3pso.004.mp4, 0.8444831371307373, MAA: 0.7449464201927185\n",
      "Consiouness Orig 0.4563106796116505, Gender: 2, Ethn: 2: \n",
      "Openness: KRo-x2uoHUg.002.mp4, 0.830441951751709, MAA: 0.707899808883667\n",
      "Extraversion Orig 0.7757009345794394, Gender: 2, Ethn: 2: \n",
      "Extraversion: 9KAqOrdiZ4I.003.mp4, 0.857807457447052, MAA: 0.7266127467155457\n",
      "Extraversion Orig 0.2897196261682243, Gender: 2, Ethn: 2: \n",
      "Extraversion: jFx6AEw6viQ.001.mp4, 0.7611532807350159, MAA: 0.6515989899635315\n",
      "Extraversion Orig 0.2336448598130841, Gender: 1, Ethn: 2: \n",
      "Extraversion: xsDABUrvs6w.005.mp4, 0.8251278400421143, MAA: 0.74184650182724\n",
      "Openness Orig 0.3111111111111111, Gender: 1, Ethn: 2: \n",
      "Consiouness: Agg7z10B_iY.003.mp4, 0.8778879642486572, MAA: 0.7341437339782715\n",
      "Openness Orig 0.8999999999999999, Gender: 1, Ethn: 3: \n"
     ]
    }
   ],
   "source": [
    "showVidWithTrait(acc75, testset)"
   ]
  },
  {
   "cell_type": "code",
   "execution_count": 37,
   "id": "37c565fc",
   "metadata": {},
   "outputs": [],
   "source": [
    "partOfAcc95 = collectPartOfRes(acc90, 20)"
   ]
  },
  {
   "cell_type": "code",
   "execution_count": 38,
   "id": "47361db6",
   "metadata": {},
   "outputs": [
    {
     "name": "stdout",
     "output_type": "stream",
     "text": [
      "100\n"
     ]
    }
   ],
   "source": [
    "print(len(partOfAcc95))"
   ]
  },
  {
   "cell_type": "code",
   "execution_count": 39,
   "id": "67b133ce",
   "metadata": {},
   "outputs": [
    {
     "name": "stdout",
     "output_type": "stream",
     "text": [
      "Consiouness: 9RfE2-aTvaM.002.mp4, 0.9997094869613647, MAA: 0.9216589331626892\n",
      "Agreeableness Orig 0.5934065934065933, Gender: 1, Ethn: 2: \n",
      "Consiouness: g0PWBzU95sI.003.mp4, 0.9967731833457947, MAA: 0.9103599786758423\n",
      "Neuroticism Orig 0.7395833333333333, Gender: 1, Ethn: 2: \n",
      "Openness: 7qGYGbIg45c.001.mp4, 0.9933702945709229, MAA: 0.9216386079788208\n",
      "Openness Orig 0.3777777777777778, Gender: 1, Ethn: 2: \n",
      "Openness: nghDz0el8iI.002.mp4, 0.9947778582572937, MAA: 0.9497381448745728\n",
      "Openness Orig 0.711111111111111, Gender: 2, Ethn: 2: \n",
      "Consiouness: 1mHjMNZZvFo.001.mp4, 0.9316357970237732, MAA: 0.8641414046287537\n",
      "Consiouness Orig 0.7961165048543688, Gender: 2, Ethn: 2: \n",
      "Openness: 3JAFkk42zPs.003.mp4, 0.9671505689620972, MAA: 0.8056235313415527\n",
      "Openness Orig 0.3777777777777778, Gender: 1, Ethn: 2: \n",
      "Consiouness: wzCdM6Fe_4A.002.mp4, 0.9897027611732483, MAA: 0.9291898608207703\n",
      "Consiouness Orig 0.5436893203883495, Gender: 2, Ethn: 3: \n",
      "Consiouness: CQMH9Qguuao.001.mp4, 0.9443434476852417, MAA: 0.8951253890991211\n",
      "Openness Orig 0.6666666666666666, Gender: 1, Ethn: 2: \n",
      "Openness: 26ZnknvfdNM.000.mp4, 0.8352637887001038, MAA: 0.7849513292312622\n",
      "Openness Orig 0.43333333333333335, Gender: 1, Ethn: 2: \n",
      "Neuroticism: On2c_8sU8Vw.000.mp4, 0.9848456382751465, MAA: 0.9426330924034119\n",
      "Consiouness Orig 0.7669902912621359, Gender: 2, Ethn: 2: \n",
      "Openness: QS7TwjzkYiU.001.mp4, 0.9983863234519958, MAA: 0.9473406076431274\n",
      "Consiouness Orig 0.7087378640776699, Gender: 2, Ethn: 3: \n",
      "Openness: _kK9tGN883Y.005.mp4, 0.8850046396255493, MAA: 0.8253536224365234\n",
      "Openness Orig 0.34444444444444444, Gender: 2, Ethn: 2: \n",
      "Neuroticism: xq0-QVHxp-Q.002.mp4, 0.843533456325531, MAA: 0.8070909380912781\n",
      "Openness Orig 0.8444444444444444, Gender: 1, Ethn: 1: \n",
      "Extraversion: AFvUxDwJB84.004.mp4, 0.9540374279022217, MAA: 0.8869460225105286\n",
      "Consiouness Orig 0.47572815533980584, Gender: 2, Ethn: 3: \n",
      "Agreeableness: TUaOp5eIU2c.004.mp4, 0.9853470325469971, MAA: 0.9296379089355469\n",
      "Consiouness Orig 0.7864077669902914, Gender: 1, Ethn: 2: \n",
      "Neuroticism: fyXiORXmWHs.001.mp4, 0.9854412078857422, MAA: 0.93115234375\n",
      "Agreeableness Orig 0.7582417582417583, Gender: 1, Ethn: 2: \n",
      "Openness: jmbAPNTJ3Vk.004.mp4, 0.9891502261161804, MAA: 0.9281730651855469\n",
      "Consiouness Orig 0.7669902912621359, Gender: 2, Ethn: 3: \n",
      "Extraversion: tTBRJznaNi0.003.mp4, 0.9068158864974976, MAA: 0.8790268301963806\n",
      "Openness Orig 0.7444444444444444, Gender: 1, Ethn: 2: \n",
      "Agreeableness: It0-yCwOc5k.001.mp4, 0.9352536201477051, MAA: 0.9082525372505188\n",
      "Openness Orig 0.6777777777777777, Gender: 2, Ethn: 3: \n",
      "Extraversion: r1YAW67aevY.001.mp4, 0.9767818450927734, MAA: 0.9081321954727173\n",
      "Agreeableness Orig 0.3846153846153846, Gender: 1, Ethn: 2: \n",
      "Agreeableness: yHwuRYr5lxk.001.mp4, 0.8109115362167358, MAA: 0.7522073984146118\n",
      "Openness Orig 0.4777777777777778, Gender: 2, Ethn: 2: \n",
      "Openness: RgZTZIf8K8g.004.mp4, 0.8806169629096985, MAA: 0.8268033266067505\n",
      "Agreeableness Orig 0.4065934065934066, Gender: 1, Ethn: 2: \n",
      "Agreeableness: voB6O-ky9cA.002.mp4, 0.9814476370811462, MAA: 0.9306174516677856\n",
      "Neuroticism Orig 0.5625, Gender: 1, Ethn: 2: \n",
      "Neuroticism: NVvKBE5FTMk.004.mp4, 0.9979727864265442, MAA: 0.9253029227256775\n",
      "Neuroticism Orig 0.625, Gender: 1, Ethn: 2: \n",
      "Consiouness: oe1PZxExhzc.002.mp4, 0.9713378548622131, MAA: 0.8896533846855164\n",
      "Consiouness Orig 0.7184466019417477, Gender: 2, Ethn: 2: \n",
      "Agreeableness: 1DCnIad1Y0w.001.mp4, 0.9206496477127075, MAA: 0.8555209040641785\n",
      "Openness Orig 0.3777777777777778, Gender: 1, Ethn: 2: \n",
      "Neuroticism: nGe8dIc-ecc.004.mp4, 0.9506402611732483, MAA: 0.8473371863365173\n",
      "Neuroticism Orig 0.6145833333333333, Gender: 2, Ethn: 2: \n",
      "Agreeableness: ZMOcuCj-86c.001.mp4, 0.9296246767044067, MAA: 0.8807721138000488\n",
      "Consiouness Orig 0.6601941747572816, Gender: 1, Ethn: 3: \n",
      "Consiouness: 85isLsZHZpo.002.mp4, 0.9502590894699097, MAA: 0.897987961769104\n",
      "Openness Orig 0.922222222222222, Gender: 2, Ethn: 2: \n",
      "Neuroticism: 3LAaFUSGvsU.005.mp4, 0.9989650249481201, MAA: 0.9140376448631287\n",
      "Consiouness Orig 0.7475728155339806, Gender: 1, Ethn: 2: \n",
      "Consiouness: ApPnsnIZozw.000.mp4, 0.9838952422142029, MAA: 0.9145782589912415\n",
      "Neuroticism Orig 0.5833333333333333, Gender: 1, Ethn: 3: \n",
      "Neuroticism: vOEQlAMABWM.004.mp4, 0.9849472045898438, MAA: 0.9371569752693176\n",
      "Extraversion Orig 0.588785046728972, Gender: 2, Ethn: 2: \n",
      "Agreeableness: KNOHhnRMpSw.004.mp4, 0.998363733291626, MAA: 0.9328507781028748\n",
      "Openness Orig 0.45555555555555555, Gender: 1, Ethn: 2: \n",
      "Openness: 0MB91ku0eEw.002.mp4, 0.8505675792694092, MAA: 0.802737832069397\n",
      "Consiouness Orig 0.7766990291262136, Gender: 1, Ethn: 2: \n",
      "Agreeableness: b6eoqD1J_qU.001.mp4, 0.9258593320846558, MAA: 0.8677849173545837\n",
      "Neuroticism Orig 0.8020833333333334, Gender: 2, Ethn: 2: \n",
      "Agreeableness: 5BPGRteF64Y.003.mp4, 0.9001750946044922, MAA: 0.8424825072288513\n",
      "Agreeableness Orig 0.4725274725274725, Gender: 1, Ethn: 2: \n",
      "Consiouness: tPVSlH_VmZk.000.mp4, 0.9846867322921753, MAA: 0.9084624648094177\n",
      "Openness Orig 0.6444444444444444, Gender: 1, Ethn: 2: \n",
      "Agreeableness: 9n8dNi-ERQ0.002.mp4, 0.9592177271842957, MAA: 0.780138373374939\n",
      "Openness Orig 0.7444444444444444, Gender: 2, Ethn: 3: \n",
      "Openness: 50gokPvvMs8.001.mp4, 0.9657984972000122, MAA: 0.9134562611579895\n",
      "Consiouness Orig 0.6504854368932039, Gender: 2, Ethn: 2: \n",
      "Consiouness: VNK6LQHh25w.005.mp4, 0.9719183444976807, MAA: 0.8867811560630798\n",
      "Openness Orig 0.5222222222222223, Gender: 2, Ethn: 2: \n",
      "Agreeableness: RWfY3Xk0XPQ.004.mp4, 0.9694918394088745, MAA: 0.9323549270629883\n",
      "Openness Orig 0.6, Gender: 1, Ethn: 2: \n",
      "Neuroticism: cpzY1b6wJqs.001.mp4, 0.915934681892395, MAA: 0.8572407960891724\n",
      "Neuroticism Orig 0.5208333333333334, Gender: 2, Ethn: 3: \n",
      "Openness: UHXueLgWoOw.002.mp4, 0.9295902252197266, MAA: 0.8520550727844238\n",
      "Openness Orig 0.4888888888888889, Gender: 1, Ethn: 2: \n",
      "Openness: UvX6ctu2ObM.003.mp4, 0.9228776693344116, MAA: 0.8915367126464844\n",
      "Openness Orig 0.5444444444444444, Gender: 1, Ethn: 2: \n",
      "Extraversion: vYkHHVeNK_M.005.mp4, 0.9988645911216736, MAA: 0.9263624548912048\n",
      "Agreeableness Orig 0.4395604395604395, Gender: 1, Ethn: 2: \n",
      "Neuroticism: PpJ4S8ZM8mQ.001.mp4, 0.9961508512496948, MAA: 0.9427438974380493\n",
      "Openness Orig 0.611111111111111, Gender: 2, Ethn: 2: \n",
      "Extraversion: UQeuBvZNusI.002.mp4, 0.9427722692489624, MAA: 0.850721538066864\n",
      "Agreeableness Orig 0.4835164835164835, Gender: 2, Ethn: 2: \n",
      "Agreeableness: xcMwMi4fdis.003.mp4, 0.983796238899231, MAA: 0.8840579390525818\n",
      "Neuroticism Orig 0.6354166666666666, Gender: 2, Ethn: 3: \n",
      "Openness: 2TbU3Eg2i4A.000.mp4, 0.881787121295929, MAA: 0.7999739050865173\n",
      "Openness Orig 0.5, Gender: 2, Ethn: 3: \n",
      "Consiouness: CESTtNvDpww.002.mp4, 0.929956316947937, MAA: 0.8615574836730957\n",
      "Agreeableness Orig 0.7802197802197802, Gender: 2, Ethn: 2: \n",
      "Consiouness: k99PI3FGEj0.001.mp4, 0.997045636177063, MAA: 0.9366928935050964\n",
      "Extraversion Orig 0.5514018691588786, Gender: 1, Ethn: 2: \n",
      "Agreeableness: Wy4hWbeibhU.001.mp4, 0.9816222190856934, MAA: 0.9408179521560669\n",
      "Neuroticism Orig 0.5, Gender: 2, Ethn: 2: \n",
      "Consiouness: PEjFZNkbQos.002.mp4, 0.9550018310546875, MAA: 0.9120816588401794\n",
      "Openness Orig 0.5111111111111111, Gender: 1, Ethn: 2: \n",
      "Neuroticism: jwcSbw4NDn0.001.mp4, 0.9823296070098877, MAA: 0.9473586082458496\n",
      "Neuroticism Orig 0.5729166666666666, Gender: 2, Ethn: 2: \n",
      "Extraversion: fKrX-KXgXYM.005.mp4, 0.9938758611679077, MAA: 0.9273287057876587\n",
      "Openness Orig 0.6, Gender: 2, Ethn: 2: \n",
      "Openness: RQeoo3idUJc.001.mp4, 0.9689849615097046, MAA: 0.9093236923217773\n",
      "Openness Orig 0.5666666666666667, Gender: 1, Ethn: 2: \n",
      "Consiouness: jxoOEkSq0uM.002.mp4, 0.9980370402336121, MAA: 0.9162916541099548\n",
      "Agreeableness Orig 0.7252747252747254, Gender: 1, Ethn: 2: \n",
      "Neuroticism: WFY3xwXQ0Zw.000.mp4, 0.9894701838493347, MAA: 0.8924226760864258\n",
      "Openness Orig 0.8333333333333333, Gender: 2, Ethn: 2: \n",
      "Neuroticism: NyQ2K2J3N0s.002.mp4, 0.9700922966003418, MAA: 0.9271872639656067\n",
      "Openness Orig 0.41111111111111115, Gender: 2, Ethn: 3: \n",
      "Openness: b-qfeGqPd04.002.mp4, 0.9401451945304871, MAA: 0.878614604473114\n",
      "Agreeableness Orig 0.5714285714285714, Gender: 1, Ethn: 2: \n",
      "Agreeableness: encC96iqr9Y.001.mp4, 0.9740452766418457, MAA: 0.8889639973640442\n",
      "Consiouness Orig 0.7184466019417477, Gender: 1, Ethn: 3: \n",
      "Agreeableness: _UnoRkHkYB8.001.mp4, 0.9924437403678894, MAA: 0.9324588775634766\n",
      "Agreeableness Orig 0.5164835164835165, Gender: 1, Ethn: 2: \n",
      "Neuroticism: Qqc1539E6rs.001.mp4, 0.9224748611450195, MAA: 0.8771145939826965\n",
      "Neuroticism Orig 0.7604166666666666, Gender: 2, Ethn: 2: \n",
      "Agreeableness: VhHnmeRABJw.002.mp4, 0.9906652569770813, MAA: 0.9361194968223572\n",
      "Consiouness Orig 0.7864077669902914, Gender: 2, Ethn: 2: \n",
      "Openness: vp9p1osOaLI.001.mp4, 0.9483025074005127, MAA: 0.8583912253379822\n",
      "Agreeableness Orig 0.7252747252747254, Gender: 2, Ethn: 2: \n",
      "Extraversion: LmA23EIaXqg.004.mp4, 0.9682274460792542, MAA: 0.9053665399551392\n",
      "Extraversion Orig 0.4392523364485981, Gender: 1, Ethn: 2: \n",
      "Extraversion: mQpNe8f5xA8.005.mp4, 0.9865159392356873, MAA: 0.8950067758560181\n",
      "Openness Orig 0.8999999999999999, Gender: 2, Ethn: 2: \n",
      "Consiouness: Ie2y_yOeKpo.000.mp4, 0.9592928886413574, MAA: 0.890162467956543\n",
      "Extraversion Orig 0.6448598130841123, Gender: 2, Ethn: 3: \n",
      "Neuroticism: -NwfYYf5xLo.002.mp4, 0.9957898855209351, MAA: 0.9019948840141296\n",
      "Agreeableness Orig 0.835164835164835, Gender: 2, Ethn: 2: \n",
      "Openness: As93GgkTdt4.005.mp4, 0.9883602857589722, MAA: 0.9307264685630798\n",
      "Extraversion Orig 0.7383177570093458, Gender: 2, Ethn: 2: \n",
      "Openness: HH03EXo0TB0.005.mp4, 0.9962993860244751, MAA: 0.9400779604911804\n",
      "Agreeableness Orig 0.5274725274725275, Gender: 1, Ethn: 2: \n",
      "Openness: vLAHfIjmRMc.000.mp4, 0.9366374015808105, MAA: 0.906079888343811\n",
      "Extraversion Orig 0.6261682242990655, Gender: 1, Ethn: 2: \n",
      "Neuroticism: t6-ljEWQjW8.004.mp4, 0.9742075204849243, MAA: 0.9442911148071289\n",
      "Openness Orig 0.5444444444444444, Gender: 1, Ethn: 2: \n",
      "Neuroticism: hmy9XEvT2v4.003.mp4, 0.9964805245399475, MAA: 0.9408178329467773\n",
      "Openness Orig 0.6555555555555556, Gender: 2, Ethn: 2: \n",
      "Agreeableness: TyE0bVJZZto.003.mp4, 0.985548198223114, MAA: 0.9041123390197754\n",
      "Openness Orig 0.4777777777777778, Gender: 2, Ethn: 2: \n",
      "Openness: YZp79VcnY0w.000.mp4, 0.9718223810195923, MAA: 0.9259533882141113\n",
      "Consiouness Orig 0.6116504854368932, Gender: 1, Ethn: 2: \n",
      "Extraversion: mfGhtr0zy3k.003.mp4, 0.9658902883529663, MAA: 0.9133967757225037\n",
      "Agreeableness Orig 0.7142857142857143, Gender: 2, Ethn: 2: \n",
      "Neuroticism: 3WoXkI06zGk.000.mp4, 0.9331396818161011, MAA: 0.874919056892395\n",
      "Openness Orig 0.7, Gender: 2, Ethn: 2: \n",
      "Agreeableness: -DOqN0d8KHw.004.mp4, 0.9576129913330078, MAA: 0.8212558031082153\n",
      "Agreeableness Orig 0.4615384615384615, Gender: 2, Ethn: 2: \n",
      "Neuroticism: 9z5cV1ANYwE.000.mp4, 0.979870617389679, MAA: 0.9187425971031189\n",
      "Consiouness Orig 0.6213592233009709, Gender: 2, Ethn: 2: \n",
      "Consiouness: ilOi-sQo9HI.002.mp4, 0.9801592826843262, MAA: 0.9266859292984009\n",
      "Agreeableness Orig 0.5604395604395604, Gender: 2, Ethn: 2: \n",
      "Extraversion: SI93csgHMTk.000.mp4, 0.8358104228973389, MAA: 0.7617268562316895\n",
      "Openness Orig 0.34444444444444444, Gender: 1, Ethn: 2: \n",
      "Agreeableness: 19pTUX8KfYM.002.mp4, 0.9755083918571472, MAA: 0.9139249920845032\n",
      "Consiouness Orig 0.7281553398058251, Gender: 1, Ethn: 2: \n",
      "Consiouness: rY_bqkNUp9I.005.mp4, 0.9474886655807495, MAA: 0.8649765253067017\n",
      "Openness Orig 0.8777777777777777, Gender: 2, Ethn: 2: \n",
      "Consiouness: T1_6sVNHG70.002.mp4, 0.9061675071716309, MAA: 0.8441373705863953\n",
      "Agreeableness Orig 0.2747252747252747, Gender: 1, Ethn: 2: \n",
      "Neuroticism: 0MB91ku0eEw.005.mp4, 0.9910684823989868, MAA: 0.9038423895835876\n",
      "Agreeableness Orig 0.7142857142857143, Gender: 1, Ethn: 2: \n",
      "Consiouness: j5fXaXrNPoA.002.mp4, 0.9820169806480408, MAA: 0.9224578738212585\n",
      "Consiouness Orig 0.6019417475728155, Gender: 2, Ethn: 2: \n"
     ]
    },
    {
     "name": "stdout",
     "output_type": "stream",
     "text": [
      "Extraversion: x0mD5kr2hu4.005.mp4, 0.9898315072059631, MAA: 0.9464911818504333\n",
      "Openness Orig 0.8222222222222221, Gender: 2, Ethn: 2: \n",
      "Agreeableness: 9RfE2-aTvaM.004.mp4, 0.9799803495407104, MAA: 0.937030017375946\n",
      "Neuroticism Orig 0.6770833333333334, Gender: 1, Ethn: 2: \n",
      "Neuroticism: 0G2o3fik36I.000.mp4, 0.9605604410171509, MAA: 0.9300514459609985\n",
      "Extraversion Orig 0.691588785046729, Gender: 1, Ethn: 2: \n",
      "Consiouness: b8GPFr11adA.000.mp4, 0.9658603668212891, MAA: 0.9385464787483215\n",
      "Agreeableness Orig 0.6263736263736264, Gender: 1, Ethn: 2: \n",
      "Extraversion: Y9WX7ucPP-o.003.mp4, 0.9356529712677002, MAA: 0.8764463663101196\n",
      "Openness Orig 0.8333333333333333, Gender: 1, Ethn: 2: \n",
      "Extraversion: hPguTv1Zvg8.005.mp4, 0.996846079826355, MAA: 0.9454633593559265\n",
      "Agreeableness Orig 0.6923076923076923, Gender: 1, Ethn: 2: \n",
      "Extraversion: UVMEzA3yHsM.004.mp4, 0.9854998588562012, MAA: 0.9371452331542969\n",
      "Agreeableness Orig 0.6153846153846153, Gender: 1, Ethn: 2: \n",
      "Extraversion: 19pTUX8KfYM.003.mp4, 0.9845055341720581, MAA: 0.8465363383293152\n",
      "Consiouness Orig 0.8155339805825244, Gender: 1, Ethn: 2: \n",
      "Extraversion: BLwgxAWf7cg.002.mp4, 0.9099942445755005, MAA: 0.8533965945243835\n",
      "Openness Orig 0.6222222222222222, Gender: 2, Ethn: 3: \n",
      "Extraversion: fL8VYpOTLSM.000.mp4, 0.9827914834022522, MAA: 0.9231025576591492\n",
      "Agreeableness Orig 0.5604395604395604, Gender: 2, Ethn: 2: \n",
      "Extraversion: Z3E1jkaNRKs.002.mp4, 0.9631165862083435, MAA: 0.9423864483833313\n",
      "Consiouness Orig 0.6796116504854369, Gender: 1, Ethn: 2: \n",
      "Extraversion: yyqXzlF8Fgc.004.mp4, 0.9974595904350281, MAA: 0.9482530951499939\n",
      "Neuroticism Orig 0.7083333333333334, Gender: 1, Ethn: 2: \n",
      "Extraversion: 4CSV8L7aVik.003.mp4, 0.9830362200737, MAA: 0.9035240411758423\n",
      "Openness Orig 0.7555555555555554, Gender: 1, Ethn: 1: \n"
     ]
    }
   ],
   "source": [
    "showVidWithTrait(partOfAcc95, testset)"
   ]
  },
  {
   "cell_type": "code",
   "execution_count": 40,
   "id": "1210e51b",
   "metadata": {},
   "outputs": [],
   "source": [
    "partOfAcc100 = collectPartOfRes(acc100, 20)"
   ]
  },
  {
   "cell_type": "code",
   "execution_count": 41,
   "id": "506c8545",
   "metadata": {},
   "outputs": [
    {
     "name": "stdout",
     "output_type": "stream",
     "text": [
      "100\n"
     ]
    }
   ],
   "source": [
    "print(len(partOfAcc100))"
   ]
  },
  {
   "cell_type": "code",
   "execution_count": 42,
   "id": "e2572832",
   "metadata": {},
   "outputs": [
    {
     "name": "stdout",
     "output_type": "stream",
     "text": [
      "Neuroticism: 2Z8Xi_DTlpI.005.mp4, 0.9932387471199036, MAA: 0.9545516967773438\n",
      "Openness Orig 0.7888888888888888, Gender: 2, Ethn: 2: \n",
      "Neuroticism: WpEZOSrENL0.005.mp4, 0.9924097061157227, MAA: 0.9644140601158142\n",
      "Openness Orig 0.611111111111111, Gender: 2, Ethn: 2: \n",
      "Consiouness: qoztP0w5-Vo.002.mp4, 0.9802873730659485, MAA: 0.9571796655654907\n",
      "Openness Orig 0.7333333333333333, Gender: 1, Ethn: 2: \n",
      "Extraversion: FksSYDfLH04.000.mp4, 0.9995752573013306, MAA: 0.9606000781059265\n",
      "Agreeableness Orig 0.5934065934065933, Gender: 2, Ethn: 3: \n",
      "Extraversion: PWM-bKcs2p8.002.mp4, 0.9972795844078064, MAA: 0.9791345000267029\n",
      "Agreeableness Orig 0.4395604395604395, Gender: 1, Ethn: 3: \n",
      "Neuroticism: J9WyswA0vow.005.mp4, 0.9832921624183655, MAA: 0.950596809387207\n",
      "Openness Orig 0.5888888888888889, Gender: 1, Ethn: 2: \n",
      "Consiouness: 6NjuNY4LfQc.000.mp4, 0.9854620695114136, MAA: 0.9596628546714783\n",
      "Consiouness Orig 0.6601941747572816, Gender: 2, Ethn: 2: \n",
      "Extraversion: T1_6sVNHG70.004.mp4, 0.9734421372413635, MAA: 0.9547929763793945\n",
      "Openness Orig 0.5111111111111111, Gender: 1, Ethn: 2: \n",
      "Neuroticism: 2d6btbaNdfo.002.mp4, 0.9797805547714233, MAA: 0.953094482421875\n",
      "Agreeableness Orig 0.6263736263736264, Gender: 1, Ethn: 2: \n",
      "Consiouness: jd9_8OPxM3A.000.mp4, 0.9812777638435364, MAA: 0.9601160287857056\n",
      "Consiouness Orig 0.6019417475728155, Gender: 1, Ethn: 2: \n",
      "Openness: bnoPmV0_aIc.003.mp4, 0.9853352308273315, MAA: 0.9573160409927368\n",
      "Agreeableness Orig 0.6923076923076923, Gender: 1, Ethn: 2: \n",
      "Agreeableness: ixPqs7L8oAE.001.mp4, 0.997545063495636, MAA: 0.950090229511261\n",
      "Consiouness Orig 0.7281553398058251, Gender: 2, Ethn: 2: \n",
      "Extraversion: 2Z8Xi_DTlpI.000.mp4, 0.9923373460769653, MAA: 0.9569666981697083\n",
      "Openness Orig 0.7222222222222221, Gender: 2, Ethn: 2: \n",
      "Consiouness: iqs7mZbg5UI.000.mp4, 0.9908894896507263, MAA: 0.9691742062568665\n",
      "Extraversion Orig 0.6168224299065421, Gender: 2, Ethn: 2: \n",
      "Openness: aQVGVhcMBtE.005.mp4, 0.9903285503387451, MAA: 0.962984561920166\n",
      "Openness Orig 0.5555555555555556, Gender: 2, Ethn: 3: \n",
      "Neuroticism: OMTlpgrJYFk.004.mp4, 0.9957097768783569, MAA: 0.9819318652153015\n",
      "Openness Orig 0.7666666666666666, Gender: 2, Ethn: 2: \n",
      "Neuroticism: AT9kY7tP710.000.mp4, 0.9931958317756653, MAA: 0.9570648074150085\n",
      "Openness Orig 0.5888888888888889, Gender: 1, Ethn: 2: \n",
      "Neuroticism: cjbh1lfr43c.003.mp4, 0.999637246131897, MAA: 0.9560906291007996\n",
      "Openness Orig 0.5333333333333333, Gender: 2, Ethn: 2: \n",
      "Neuroticism: c70zW-HoZUA.000.mp4, 0.9837086200714111, MAA: 0.965259850025177\n",
      "Agreeableness Orig 0.6153846153846153, Gender: 1, Ethn: 1: \n",
      "Consiouness: FxVUG2R1y0Q.002.mp4, 0.9877315759658813, MAA: 0.9558479189872742\n",
      "Neuroticism Orig 0.7812499999999999, Gender: 2, Ethn: 2: \n",
      "Agreeableness: sSR1a5XW7n4.004.mp4, 0.9939029216766357, MAA: 0.9606661796569824\n",
      "Consiouness Orig 0.6893203883495147, Gender: 1, Ethn: 3: \n",
      "Openness: uDm7iZuX5DQ.000.mp4, 0.9976446628570557, MAA: 0.9534223675727844\n",
      "Agreeableness Orig 0.4945054945054945, Gender: 1, Ethn: 3: \n",
      "Extraversion: M39PNQ8Omhc.002.mp4, 0.9993918538093567, MAA: 0.9752097129821777\n",
      "Neuroticism Orig 0.59375, Gender: 2, Ethn: 1: \n",
      "Agreeableness: 7-7qX0heWkg.002.mp4, 0.999483585357666, MAA: 0.9750301241874695\n",
      "Consiouness Orig 0.5145631067961165, Gender: 2, Ethn: 3: \n",
      "Consiouness: IL5VgGakSNw.002.mp4, 0.9933985471725464, MAA: 0.9511213302612305\n",
      "Agreeableness Orig 0.6703296703296703, Gender: 1, Ethn: 2: \n",
      "Consiouness: W0Ay5uul8j0.003.mp4, 0.9908754825592041, MAA: 0.9579163789749146\n",
      "Consiouness Orig 0.6310679611650486, Gender: 2, Ethn: 2: \n",
      "Consiouness: mKWscEow1U8.003.mp4, 0.9827641844749451, MAA: 0.9539570212364197\n",
      "Neuroticism Orig 0.7395833333333333, Gender: 1, Ethn: 2: \n",
      "Agreeableness: gZzB49daFfA.004.mp4, 0.9908753633499146, MAA: 0.9730485081672668\n",
      "Openness Orig 0.711111111111111, Gender: 2, Ethn: 2: \n",
      "Neuroticism: VIKk25Ozx40.001.mp4, 0.9723670482635498, MAA: 0.9505105018615723\n",
      "Consiouness Orig 0.6699029126213591, Gender: 1, Ethn: 2: \n",
      "Extraversion: FSBBbxNi0iU.000.mp4, 0.9900368452072144, MAA: 0.9516095519065857\n",
      "Agreeableness Orig 0.7362637362637363, Gender: 2, Ethn: 2: \n",
      "Consiouness: vzttwG7SKZ8.002.mp4, 0.9922792911529541, MAA: 0.9626596570014954\n",
      "Neuroticism Orig 0.65625, Gender: 2, Ethn: 2: \n",
      "Extraversion: DctPau1p7JM.000.mp4, 0.9973220229148865, MAA: 0.9549214243888855\n",
      "Agreeableness Orig 0.4175824175824176, Gender: 1, Ethn: 2: \n",
      "Openness: xgwiqo2AsCA.004.mp4, 0.9941967725753784, MAA: 0.9552310109138489\n",
      "Agreeableness Orig 0.4615384615384615, Gender: 1, Ethn: 2: \n",
      "Openness: -DOqN0d8KHw.005.mp4, 0.9985557794570923, MAA: 0.9650241136550903\n",
      "Openness Orig 0.5888888888888889, Gender: 2, Ethn: 2: \n",
      "Neuroticism: GqFpXstFUZI.001.mp4, 0.9944083094596863, MAA: 0.9565960764884949\n",
      "Openness Orig 0.5444444444444444, Gender: 1, Ethn: 2: \n",
      "Consiouness: 6NjuNY4LfQc.005.mp4, 0.9974940419197083, MAA: 0.9716100692749023\n",
      "Neuroticism Orig 0.6666666666666667, Gender: 2, Ethn: 2: \n",
      "Extraversion: cgp1OzTOq1o.003.mp4, 0.9987502694129944, MAA: 0.9623715281486511\n",
      "Openness Orig 0.6555555555555556, Gender: 1, Ethn: 2: \n",
      "Extraversion: c7tczvW3_dQ.004.mp4, 0.9938207864761353, MAA: 0.9726077914237976\n",
      "Agreeableness Orig 0.5934065934065933, Gender: 1, Ethn: 2: \n",
      "Agreeableness: 4kYaYIcuLpM.000.mp4, 0.9961374998092651, MAA: 0.9504238367080688\n",
      "Agreeableness Orig 0.5824175824175825, Gender: 1, Ethn: 1: \n",
      "Agreeableness: wVpjBxCirAQ.002.mp4, 0.9904561042785645, MAA: 0.9547445178031921\n",
      "Consiouness Orig 0.5922330097087379, Gender: 1, Ethn: 2: \n",
      "Openness: nLB29nx1Jp4.002.mp4, 0.9917840957641602, MAA: 0.9567524194717407\n",
      "Openness Orig 0.7444444444444444, Gender: 2, Ethn: 2: \n",
      "Openness: qFYgMFMal_s.004.mp4, 0.9903618693351746, MAA: 0.9625011682510376\n",
      "Consiouness Orig 0.6601941747572816, Gender: 2, Ethn: 2: \n",
      "Extraversion: f4rQJiW6oSk.002.mp4, 0.9940371513366699, MAA: 0.9562789797782898\n",
      "Consiouness Orig 0.7475728155339806, Gender: 2, Ethn: 2: \n",
      "Agreeableness: nvlqJbHk_Lc.005.mp4, 0.9942684769630432, MAA: 0.9587295651435852\n",
      "Extraversion Orig 0.5327102803738318, Gender: 2, Ethn: 2: \n",
      "Agreeableness: Cl5jhuLQ9Dg.000.mp4, 0.9938034415245056, MAA: 0.9574680328369141\n",
      "Neuroticism Orig 0.5729166666666666, Gender: 1, Ethn: 2: \n",
      "Agreeableness: IveGfOJ86wY.005.mp4, 0.9985445737838745, MAA: 0.9663357138633728\n",
      "Openness Orig 0.5666666666666667, Gender: 1, Ethn: 2: \n",
      "Agreeableness: KYvMsMLNGvY.002.mp4, 0.9932886958122253, MAA: 0.9665061831474304\n",
      "Agreeableness Orig 0.5604395604395604, Gender: 1, Ethn: 2: \n",
      "Neuroticism: 51z2rCqPqPE.004.mp4, 0.982710599899292, MAA: 0.9575244784355164\n",
      "Openness Orig 0.6777777777777777, Gender: 2, Ethn: 2: \n",
      "Agreeableness: wKBObhJXCSQ.000.mp4, 0.9882693290710449, MAA: 0.9648851752281189\n",
      "Openness Orig 0.4444444444444445, Gender: 2, Ethn: 3: \n",
      "Openness: PWM-bKcs2p8.005.mp4, 0.985405445098877, MAA: 0.9580108523368835\n",
      "Consiouness Orig 0.4466019417475728, Gender: 1, Ethn: 3: \n",
      "Neuroticism: C47tB5JmEqQ.001.mp4, 0.9864067435264587, MAA: 0.9570803046226501\n",
      "Consiouness Orig 0.6504854368932039, Gender: 2, Ethn: 2: \n",
      "Neuroticism: LSqijVxP0EM.003.mp4, 0.9852854013442993, MAA: 0.9571642279624939\n",
      "Consiouness Orig 0.47572815533980584, Gender: 2, Ethn: 3: \n",
      "Consiouness: 5xA5iKk4v6w.000.mp4, 0.9990198016166687, MAA: 0.9665684103965759\n",
      "Consiouness Orig 0.5048543689320388, Gender: 1, Ethn: 2: \n",
      "Openness: cWvZnl5XjwI.001.mp4, 0.991088330745697, MAA: 0.968392014503479\n",
      "Openness Orig 0.5555555555555556, Gender: 1, Ethn: 3: \n",
      "Extraversion: oU7zAWm_01o.001.mp4, 0.980129063129425, MAA: 0.9637055397033691\n",
      "Openness Orig 0.6333333333333333, Gender: 2, Ethn: 2: \n",
      "Neuroticism: De4i7-FX9Og.002.mp4, 0.988938570022583, MAA: 0.9566701054573059\n",
      "Extraversion Orig 0.691588785046729, Gender: 2, Ethn: 2: \n",
      "Consiouness: n877YOU6Qy0.000.mp4, 0.9902149438858032, MAA: 0.9564367532730103\n",
      "Agreeableness Orig 0.5274725274725275, Gender: 2, Ethn: 2: \n",
      "Openness: HkqPfxphZsE.000.mp4, 0.997366189956665, MAA: 0.9751747250556946\n",
      "Openness Orig 0.7222222222222221, Gender: 2, Ethn: 2: \n",
      "Openness: PpJ4S8ZM8mQ.004.mp4, 0.992194652557373, MAA: 0.9582762122154236\n",
      "Agreeableness Orig 0.7142857142857143, Gender: 2, Ethn: 2: \n",
      "Neuroticism: XOioICna1hc.002.mp4, 0.9851127862930298, MAA: 0.9508011937141418\n",
      "Openness Orig 0.5777777777777777, Gender: 2, Ethn: 3: \n",
      "Neuroticism: LBrmHHzyIiY.004.mp4, 0.9873765707015991, MAA: 0.9607305526733398\n",
      "Agreeableness Orig 0.5494505494505494, Gender: 1, Ethn: 2: \n",
      "Consiouness: 39o1zJFeM7E.000.mp4, 0.98035728931427, MAA: 0.9565570950508118\n",
      "Openness Orig 0.6666666666666666, Gender: 1, Ethn: 2: \n",
      "Agreeableness: rIHcq2E67Nc.001.mp4, 0.9943149089813232, MAA: 0.9523958563804626\n",
      "Openness Orig 0.6555555555555556, Gender: 2, Ethn: 2: \n",
      "Neuroticism: hspeWl-Bip0.001.mp4, 0.9943972826004028, MAA: 0.9659188389778137\n",
      "Consiouness Orig 0.6601941747572816, Gender: 2, Ethn: 2: \n",
      "Neuroticism: ABWFQuPG1LA.001.mp4, 0.9864197373390198, MAA: 0.9686630368232727\n",
      "Openness Orig 0.7222222222222221, Gender: 2, Ethn: 2: \n",
      "Extraversion: 2uAJJH7B5aw.002.mp4, 0.9989640712738037, MAA: 0.9725144505500793\n",
      "Consiouness Orig 0.7669902912621359, Gender: 1, Ethn: 2: \n",
      "Neuroticism: ZGox7tevC6A.002.mp4, 0.9859015345573425, MAA: 0.9512724280357361\n",
      "Agreeableness Orig 0.5714285714285714, Gender: 1, Ethn: 2: \n",
      "Extraversion: Jh8yMyNZkuo.000.mp4, 0.9952564835548401, MAA: 0.9542812705039978\n",
      "Agreeableness Orig 0.6593406593406592, Gender: 2, Ethn: 2: \n",
      "Openness: eZwGkhUa0TQ.002.mp4, 0.9851072430610657, MAA: 0.9508414268493652\n",
      "Openness Orig 0.611111111111111, Gender: 2, Ethn: 1: \n",
      "Openness: 3hKgh9AB3tk.003.mp4, 0.9970754384994507, MAA: 0.9701792001724243\n",
      "Agreeableness Orig 0.5604395604395604, Gender: 1, Ethn: 2: \n",
      "Agreeableness: ODDGS0hTcUc.002.mp4, 0.9965474009513855, MAA: 0.9523882269859314\n",
      "Openness Orig 0.5555555555555556, Gender: 2, Ethn: 3: \n",
      "Agreeableness: DcVwxxbKGF4.000.mp4, 0.9850541949272156, MAA: 0.9773008227348328\n",
      "Openness Orig 0.6, Gender: 1, Ethn: 2: \n",
      "Neuroticism: cY3nHc5fDYE.005.mp4, 0.996219277381897, MAA: 0.9834708571434021\n",
      "Openness Orig 0.5777777777777777, Gender: 2, Ethn: 3: \n",
      "Extraversion: J30sMEMrKjA.003.mp4, 0.9735704660415649, MAA: 0.9502930045127869\n",
      "Openness Orig 0.7333333333333333, Gender: 2, Ethn: 2: \n",
      "Consiouness: 4lIbWq27O84.003.mp4, 0.9992978572845459, MAA: 0.9686275720596313\n",
      "Agreeableness Orig 0.6483516483516484, Gender: 1, Ethn: 2: \n",
      "Openness: Jcw9NZkMn6I.003.mp4, 0.971662163734436, MAA: 0.9575164914131165\n",
      "Consiouness Orig 0.7378640776699029, Gender: 1, Ethn: 2: \n",
      "Consiouness: gWCgqVn3m3k.003.mp4, 0.9843469858169556, MAA: 0.9544814229011536\n",
      "Openness Orig 0.7888888888888888, Gender: 2, Ethn: 2: \n",
      "Agreeableness: GkPz3-y6Les.000.mp4, 0.9876803755760193, MAA: 0.9557884335517883\n",
      "Agreeableness Orig 0.5714285714285714, Gender: 1, Ethn: 2: \n",
      "Extraversion: isaP2l3rlBQ.004.mp4, 0.9891799688339233, MAA: 0.959755539894104\n",
      "Consiouness Orig 0.6116504854368932, Gender: 1, Ethn: 3: \n",
      "Openness: fG-hvGTHoec.003.mp4, 0.972385048866272, MAA: 0.9535078406333923\n",
      "Openness Orig 0.6555555555555556, Gender: 2, Ethn: 2: \n",
      "Extraversion: 9mM_0vrO3wc.004.mp4, 0.9674321413040161, MAA: 0.9561123251914978\n",
      "Consiouness Orig 0.6796116504854369, Gender: 2, Ethn: 2: \n",
      "Consiouness: pPtzEnf5afw.001.mp4, 0.9949567317962646, MAA: 0.9523423314094543\n",
      "Openness Orig 0.4777777777777778, Gender: 2, Ethn: 2: \n",
      "Extraversion: 3WmWJ1lNy-U.002.mp4, 0.9802702069282532, MAA: 0.9502545595169067\n",
      "Agreeableness Orig 0.6373626373626373, Gender: 2, Ethn: 2: \n",
      "Consiouness: BWAEpai6FK0.004.mp4, 0.996782660484314, MAA: 0.9611607789993286\n",
      "Agreeableness Orig 0.6923076923076923, Gender: 2, Ethn: 2: \n",
      "Consiouness: PKe86w7jSGE.000.mp4, 0.9979263544082642, MAA: 0.9650241732597351\n",
      "Agreeableness Orig 0.5714285714285714, Gender: 2, Ethn: 2: \n",
      "Agreeableness: _fJcW5234bY.005.mp4, 0.9986317157745361, MAA: 0.9633006453514099\n",
      "Extraversion Orig 0.6448598130841123, Gender: 2, Ethn: 2: \n",
      "Extraversion: cJs_LosR-u8.002.mp4, 0.9986451864242554, MAA: 0.9798442721366882\n",
      "Consiouness Orig 0.5922330097087379, Gender: 2, Ethn: 2: \n",
      "Agreeableness: v1ScttBOQc8.003.mp4, 0.9972149729728699, MAA: 0.9654492735862732\n",
      "Openness Orig 0.5777777777777777, Gender: 1, Ethn: 2: \n",
      "Consiouness: 1mReUxIEuw0.004.mp4, 0.9997173547744751, MAA: 0.973484218120575\n",
      "Openness Orig 0.5111111111111111, Gender: 2, Ethn: 2: \n",
      "Agreeableness: cT3oyHhUznw.002.mp4, 0.9917641282081604, MAA: 0.9648651480674744\n",
      "Agreeableness Orig 0.5494505494505494, Gender: 1, Ethn: 2: \n",
      "Openness: w2FKw8IhbFw.004.mp4, 0.9901415109634399, MAA: 0.9564981460571289\n",
      "Openness Orig 0.41111111111111115, Gender: 1, Ethn: 2: \n",
      "Consiouness: nOCSTnpB_F4.004.mp4, 0.9888179302215576, MAA: 0.9731773734092712\n",
      "Neuroticism Orig 0.6458333333333333, Gender: 2, Ethn: 2: \n",
      "Extraversion: ncmnmmmWEpU.002.mp4, 0.9823521375656128, MAA: 0.9623416066169739\n",
      "Consiouness Orig 0.6601941747572816, Gender: 2, Ethn: 2: \n"
     ]
    },
    {
     "name": "stdout",
     "output_type": "stream",
     "text": [
      "Agreeableness: s6N1pv5lzrU.001.mp4, 0.992542028427124, MAA: 0.9695672988891602\n",
      "Agreeableness Orig 0.5494505494505494, Gender: 1, Ethn: 2: \n",
      "Agreeableness: r9TaaVTo8Y8.005.mp4, 0.9781138300895691, MAA: 0.9510084986686707\n",
      "Consiouness Orig 0.6407766990291262, Gender: 2, Ethn: 2: \n",
      "Openness: mBdVuEXRlfQ.005.mp4, 0.9944729804992676, MAA: 0.9584644436836243\n",
      "Neuroticism Orig 0.7500000000000001, Gender: 2, Ethn: 2: \n",
      "Extraversion: GHetseJP358.000.mp4, 0.9912363886833191, MAA: 0.9539335370063782\n",
      "Consiouness Orig 0.5728155339805825, Gender: 2, Ethn: 2: \n",
      "Openness: gkhbUDIK-YM.002.mp4, 0.9985939264297485, MAA: 0.9624312520027161\n",
      "Consiouness Orig 0.5825242718446602, Gender: 2, Ethn: 3: \n",
      "Openness: C3knX70mzxQ.002.mp4, 0.9843240976333618, MAA: 0.9629831314086914\n",
      "Openness Orig 0.5888888888888889, Gender: 1, Ethn: 2: \n",
      "Openness: Gdrgw7Z6tLg.001.mp4, 0.991294801235199, MAA: 0.9564769864082336\n",
      "Agreeableness Orig 0.6813186813186812, Gender: 1, Ethn: 2: \n"
     ]
    }
   ],
   "source": [
    "showVidWithTrait(partOfAcc100, testset)"
   ]
  },
  {
   "cell_type": "code",
   "execution_count": 260,
   "id": "b048b603",
   "metadata": {},
   "outputs": [],
   "source": [
    "#------Get Trait distribution of predicted test data with max trait values --------"
   ]
  },
  {
   "cell_type": "code",
   "execution_count": 261,
   "id": "6ee6731c",
   "metadata": {},
   "outputs": [
    {
     "name": "stdout",
     "output_type": "stream",
     "text": [
      "Max values of traits for test data - all: \n",
      "Num max extraversion:  105\n",
      "Num max agree:  528\n",
      "Num max cons:  424\n",
      "Num max neuro:  229\n",
      "Num max open:  714\n"
     ]
    }
   ],
   "source": [
    "#Test\n",
    "print('Max values of traits for test data - all: ')\n",
    "counterExtraTest, counterAgreeTest, counterConsTest, counterNeuroTest, counterOpenTest = getMaxIndexTest(testset)"
   ]
  },
  {
   "cell_type": "code",
   "execution_count": 262,
   "id": "8f538fb1",
   "metadata": {},
   "outputs": [
    {
     "name": "stdout",
     "output_type": "stream",
     "text": [
      "Male:  888\n",
      "Female:  1112\n",
      "Asian:  48\n",
      "Caucasian:  1728\n",
      "African American:  224\n"
     ]
    }
   ],
   "source": [
    "maleTest, femaleTest, asianTest, caucasianTest, africanAmericanTest = genderEthnicityDistributionTest(testset)"
   ]
  },
  {
   "cell_type": "code",
   "execution_count": 263,
   "id": "2aafd767",
   "metadata": {},
   "outputs": [
    {
     "name": "stdout",
     "output_type": "stream",
     "text": [
      "Max values of traits for Acc 0.5 - 0.75:\n",
      "Num max extraversion:  4\n",
      "Num max agree:  6\n",
      "Num max cons:  8\n",
      "Num max neuro:  1\n",
      "Num max open:  12\n"
     ]
    }
   ],
   "source": [
    "#----Acc 0.5 - 0.75 ----\n",
    "print('Max values of traits for Acc 0.5 - 0.75:')\n",
    "counterExtraTest75, counterAgreeTest75, counterConsTest75, counterNeuroTest75, counterOpenTest75 = getMaxIndex(testset, acc75)"
   ]
  },
  {
   "cell_type": "code",
   "execution_count": 264,
   "id": "6638edb7",
   "metadata": {},
   "outputs": [
    {
     "name": "stdout",
     "output_type": "stream",
     "text": [
      "Percentage Extraversion: 3.8095238095238093 \n",
      " Percentage Agree: 1.1363636363636365 \n",
      " Percentage Cons: 1.8867924528301887 \n",
      " Percentage Neuro: 0.4366812227074236 \n",
      " Percentage Open: 1.680672268907563\n"
     ]
    }
   ],
   "source": [
    "percentageExtra, percentageAgree, percentageCons, percentageNeuro, percentageOpen = getPercentageofOrig(counterExtraTest, counterExtraTest75), getPercentageofOrig(counterAgreeTest, counterAgreeTest75), getPercentageofOrig(counterConsTest, counterConsTest75), getPercentageofOrig(counterNeuroTest, counterNeuroTest75), getPercentageofOrig(counterOpenTest, counterOpenTest75)\n",
    "print('Percentage Extraversion: {} \\n Percentage Agree: {} \\n Percentage Cons: {} \\n Percentage Neuro: {} \\n Percentage Open: {}'.format(percentageExtra, percentageAgree, percentageCons, percentageNeuro, percentageOpen))"
   ]
  },
  {
   "cell_type": "code",
   "execution_count": 291,
   "id": "77c7ecfd",
   "metadata": {},
   "outputs": [
    {
     "name": "stdout",
     "output_type": "stream",
     "text": [
      "Percentage Extraversion: 12.903225806451612 \n",
      " Percentage Agree: 19.35483870967742 \n",
      " Percentage Cons: 25.806451612903224 \n",
      " Percentage Neuro: 3.225806451612903 \n",
      " Percentage Open: 38.70967741935484\n"
     ]
    }
   ],
   "source": [
    "percentageExtra75, percentageAgree75, percentageCons75, percentageNeuro75, percentageOpen75 = getPercentageofOrig(len(acc75), counterExtraTest75), getPercentageofOrig(len(acc75), counterAgreeTest75), getPercentageofOrig(len(acc75), counterConsTest75), getPercentageofOrig(len(acc75), counterNeuroTest75), getPercentageofOrig(len(acc75), counterOpenTest75)\n",
    "print('Percentage Extraversion: {} \\n Percentage Agree: {} \\n Percentage Cons: {} \\n Percentage Neuro: {} \\n Percentage Open: {}'.format(percentageExtra75, percentageAgree75, percentageCons75, percentageNeuro75, percentageOpen75))"
   ]
  },
  {
   "cell_type": "code",
   "execution_count": 266,
   "id": "9cd3102d",
   "metadata": {},
   "outputs": [
    {
     "name": "stdout",
     "output_type": "stream",
     "text": [
      "Male:  16\n",
      "Female:  15\n",
      "Asian:  0\n",
      "Caucasian:  29\n",
      "African American:  2\n"
     ]
    }
   ],
   "source": [
    "maleTest75, femaleTest75, asianTest75, caucasianTest75, africanAmericanTest75 = genderEthnicityDistribution(testset, acc75)"
   ]
  },
  {
   "cell_type": "code",
   "execution_count": 267,
   "id": "1edd8dfe",
   "metadata": {},
   "outputs": [
    {
     "name": "stdout",
     "output_type": "stream",
     "text": [
      "Percentage Male: 1.8018018018018018 \n",
      " Percentage Female: 1.3489208633093526 \n",
      " Percentage Asian: 0.0 \n",
      " Percentage Caucasian: 1.6782407407407407 \n",
      " Percentage African: 0.8928571428571429\n"
     ]
    }
   ],
   "source": [
    "percentageMale75, percentageFemale75, percentageAsian75, percentageCaucasian75, percentageAfrican75 = getPercentageofOrig(maleTest, maleTest75), getPercentageofOrig(femaleTest, femaleTest75), getPercentageofOrig(asianTest, asianTest75), getPercentageofOrig(caucasianTest, caucasianTest75), getPercentageofOrig(africanAmericanTest, africanAmericanTest75)\n",
    "print('Percentage Male: {} \\n Percentage Female: {} \\n Percentage Asian: {} \\n Percentage Caucasian: {} \\n Percentage African: {}'.format(percentageMale75, percentageFemale75, percentageAsian75, percentageCaucasian75, percentageAfrican75))"
   ]
  },
  {
   "cell_type": "code",
   "execution_count": 268,
   "id": "356ce7a3",
   "metadata": {},
   "outputs": [
    {
     "name": "stdout",
     "output_type": "stream",
     "text": [
      "Percentage Male: 51.61290322580645 \n",
      " Percentage Female: 48.38709677419355 \n",
      " Percentage Asian: 0.0 \n",
      " Percentage Caucasian: 93.54838709677419 \n",
      " Percentage African: 6.451612903225806\n"
     ]
    }
   ],
   "source": [
    "#-percentage within the distribution - \n",
    "percentageMale75, percentageFemale75, percentageAsian75, percentageCaucasian75, percentageAfrican75 = getPercentageofOrig(len(acc75), maleTest75), getPercentageofOrig(len(acc75), femaleTest75), getPercentageofOrig(len(acc75), asianTest75), getPercentageofOrig(len(acc75), caucasianTest75), getPercentageofOrig(len(acc75), africanAmericanTest75)\n",
    "print('Percentage Male: {} \\n Percentage Female: {} \\n Percentage Asian: {} \\n Percentage Caucasian: {} \\n Percentage African: {}'.format(percentageMale75, percentageFemale75, percentageAsian75, percentageCaucasian75, percentageAfrican75))"
   ]
  },
  {
   "cell_type": "code",
   "execution_count": 269,
   "id": "7cdf7373",
   "metadata": {},
   "outputs": [
    {
     "name": "stdout",
     "output_type": "stream",
     "text": [
      "Max values of traits for Acc 0.75 - 0.95:\n",
      "Num max extraversion:  92\n",
      "Num max agree:  437\n",
      "Num max cons:  352\n",
      "Num max neuro:  200\n",
      "Num max open:  588\n"
     ]
    }
   ],
   "source": [
    "print('Max values of traits for Acc 0.75 - 0.95:')\n",
    "counterExtraTest90, counterAgreeTest90, counterConsTest90, counterNeuroTest90, counterOpenTest90 = getMaxIndex(testset, acc90)"
   ]
  },
  {
   "cell_type": "code",
   "execution_count": 270,
   "id": "66437f0f",
   "metadata": {},
   "outputs": [
    {
     "name": "stdout",
     "output_type": "stream",
     "text": [
      "Percentage Extraversion: 87.61904761904762 \n",
      " Percentage Agree: 82.76515151515152 \n",
      " Percentage Cons: 83.01886792452831 \n",
      " Percentage Neuro: 87.33624454148472 \n",
      " Percentage Open: 82.3529411764706\n"
     ]
    }
   ],
   "source": [
    "percentageExtra, percentageAgree, percentageCons, percentageNeuro, percentageOpen = getPercentageofOrig(counterExtraTest, counterExtraTest90), getPercentageofOrig(counterAgreeTest, counterAgreeTest90), getPercentageofOrig(counterConsTest, counterConsTest90), getPercentageofOrig(counterNeuroTest, counterNeuroTest90), getPercentageofOrig(counterOpenTest, counterOpenTest90)\n",
    "print('Percentage Extraversion: {} \\n Percentage Agree: {} \\n Percentage Cons: {} \\n Percentage Neuro: {} \\n Percentage Open: {}'.format(percentageExtra, percentageAgree, percentageCons, percentageNeuro, percentageOpen))"
   ]
  },
  {
   "cell_type": "code",
   "execution_count": 290,
   "id": "41f60b70",
   "metadata": {},
   "outputs": [
    {
     "name": "stdout",
     "output_type": "stream",
     "text": [
      "Percentage Extraversion: 5.512282804074296 \n",
      " Percentage Agree: 26.183343319352907 \n",
      " Percentage Cons: 21.09047333732774 \n",
      " Percentage Neuro: 11.983223487118035 \n",
      " Percentage Open: 35.23067705212702\n"
     ]
    }
   ],
   "source": [
    "percentageExtra90, percentageAgree90, percentageCons90, percentageNeuro90, percentageOpen90 = getPercentageofOrig(len(acc90), counterExtraTest90), getPercentageofOrig(len(acc90), counterAgreeTest90), getPercentageofOrig(len(acc90), counterConsTest90), getPercentageofOrig(len(acc90), counterNeuroTest90), getPercentageofOrig(len(acc90), counterOpenTest90)\n",
    "print('Percentage Extraversion: {} \\n Percentage Agree: {} \\n Percentage Cons: {} \\n Percentage Neuro: {} \\n Percentage Open: {}'.format(percentageExtra90, percentageAgree90, percentageCons90, percentageNeuro90, percentageOpen90))"
   ]
  },
  {
   "cell_type": "code",
   "execution_count": 272,
   "id": "c3017e5b",
   "metadata": {},
   "outputs": [
    {
     "name": "stdout",
     "output_type": "stream",
     "text": [
      "Male:  737\n",
      "Female:  932\n",
      "Asian:  36\n",
      "Caucasian:  1447\n",
      "African American:  186\n"
     ]
    }
   ],
   "source": [
    "maleTest90, femaleTest90, asianTest90, caucasianTest90, africanAmericanTest90 = genderEthnicityDistribution(testset, acc90)"
   ]
  },
  {
   "cell_type": "code",
   "execution_count": 273,
   "id": "37a05cac",
   "metadata": {},
   "outputs": [
    {
     "name": "stdout",
     "output_type": "stream",
     "text": [
      "Percentage Male: 82.99549549549549 \n",
      " Percentage Female: 83.81294964028777 \n",
      " Percentage Asian: 75.0 \n",
      " Percentage Caucasian: 83.73842592592592 \n",
      " Percentage African: 83.03571428571429\n"
     ]
    }
   ],
   "source": [
    "percentageMale90, percentageFemale90, percentageAsian90, percentageCaucasian90, percentageAfrican90 = getPercentageofOrig(maleTest, maleTest90), getPercentageofOrig(femaleTest, femaleTest90), getPercentageofOrig(asianTest, asianTest90), getPercentageofOrig(caucasianTest, caucasianTest90), getPercentageofOrig(africanAmericanTest, africanAmericanTest90)\n",
    "print('Percentage Male: {} \\n Percentage Female: {} \\n Percentage Asian: {} \\n Percentage Caucasian: {} \\n Percentage African: {}'.format(percentageMale90, percentageFemale90, percentageAsian90, percentageCaucasian90, percentageAfrican90))"
   ]
  },
  {
   "cell_type": "code",
   "execution_count": 274,
   "id": "d6df28a8",
   "metadata": {},
   "outputs": [
    {
     "name": "stdout",
     "output_type": "stream",
     "text": [
      "Percentage Male: 44.15817855002996 \n",
      " Percentage Female: 55.84182144997004 \n",
      " Percentage Asian: 2.156980227681246 \n",
      " Percentage Caucasian: 86.69862192929898 \n",
      " Percentage African: 11.144397843019773\n"
     ]
    }
   ],
   "source": [
    "percentageMale90, percentageFemale90, percentageAsian90, percentageCaucasian90, percentageAfrican90 = getPercentageofOrig(len(acc90), maleTest90), getPercentageofOrig(len(acc90), femaleTest90), getPercentageofOrig(len(acc90), asianTest90), getPercentageofOrig(len(acc90), caucasianTest90), getPercentageofOrig(len(acc90), africanAmericanTest90)\n",
    "print('Percentage Male: {} \\n Percentage Female: {} \\n Percentage Asian: {} \\n Percentage Caucasian: {} \\n Percentage African: {}'.format(percentageMale90, percentageFemale90, percentageAsian90, percentageCaucasian90, percentageAfrican90))"
   ]
  },
  {
   "cell_type": "code",
   "execution_count": 275,
   "id": "370f49de",
   "metadata": {},
   "outputs": [
    {
     "name": "stdout",
     "output_type": "stream",
     "text": [
      "Max values of traits for Acc 0.95 - 1.0:\n",
      "Num max extraversion:  9\n",
      "Num max agree:  84\n",
      "Num max cons:  64\n",
      "Num max neuro:  28\n",
      "Num max open:  114\n"
     ]
    }
   ],
   "source": [
    "print('Max values of traits for Acc 0.95 - 1.0:')\n",
    "counterExtraTest100, counterAgreeTest100, counterConsTest100, counterNeuroTest100, counterOpenTest100 = getMaxIndex(testset, acc100)"
   ]
  },
  {
   "cell_type": "code",
   "execution_count": 276,
   "id": "07419a49",
   "metadata": {},
   "outputs": [
    {
     "name": "stdout",
     "output_type": "stream",
     "text": [
      "Percentage Extraversion: 8.571428571428571 \n",
      " Percentage Agree: 15.909090909090908 \n",
      " Percentage Cons: 15.09433962264151 \n",
      " Percentage Neuro: 12.22707423580786 \n",
      " Percentage Open: 15.966386554621849\n"
     ]
    }
   ],
   "source": [
    "percentageExtra, percentageAgree, percentageCons, percentageNeuro, percentageOpen = getPercentageofOrig(counterExtraTest, counterExtraTest100), getPercentageofOrig(counterAgreeTest, counterAgreeTest100), getPercentageofOrig(counterConsTest, counterConsTest100), getPercentageofOrig(counterNeuroTest, counterNeuroTest100), getPercentageofOrig(counterOpenTest, counterOpenTest100)\n",
    "print('Percentage Extraversion: {} \\n Percentage Agree: {} \\n Percentage Cons: {} \\n Percentage Neuro: {} \\n Percentage Open: {}'.format(percentageExtra, percentageAgree, percentageCons, percentageNeuro, percentageOpen))"
   ]
  },
  {
   "cell_type": "code",
   "execution_count": 289,
   "id": "698cdad8",
   "metadata": {},
   "outputs": [
    {
     "name": "stdout",
     "output_type": "stream",
     "text": [
      "Percentage Extraversion: 3.0100334448160537 \n",
      " Percentage Agree: 28.093645484949832 \n",
      " Percentage Cons: 21.40468227424749 \n",
      " Percentage Neuro: 9.364548494983278 \n",
      " Percentage Open: 38.12709030100334\n"
     ]
    }
   ],
   "source": [
    "percentageExtra100, percentageAgree100, percentageCons100, percentageNeuro100, percentageOpen100 = getPercentageofOrig(len(acc100), counterExtraTest100), getPercentageofOrig(len(acc100), counterAgreeTest100), getPercentageofOrig(len(acc100), counterConsTest100), getPercentageofOrig(len(acc100), counterNeuroTest100), getPercentageofOrig(len(acc100), counterOpenTest100)\n",
    "print('Percentage Extraversion: {} \\n Percentage Agree: {} \\n Percentage Cons: {} \\n Percentage Neuro: {} \\n Percentage Open: {}'.format(percentageExtra100, percentageAgree100, percentageCons100, percentageNeuro100, percentageOpen100))"
   ]
  },
  {
   "cell_type": "code",
   "execution_count": 135,
   "id": "ef337c7d",
   "metadata": {},
   "outputs": [
    {
     "name": "stdout",
     "output_type": "stream",
     "text": [
      "Male:  134\n",
      "Female:  165\n",
      "Asian:  12\n",
      "Caucasian:  251\n",
      "African American:  36\n"
     ]
    }
   ],
   "source": [
    "maleTest100, femaleTest100, asianTest100, caucasianTest100, africanAmericanTest100 = genderEthnicityDistribution(testset, acc100)"
   ]
  },
  {
   "cell_type": "code",
   "execution_count": 136,
   "id": "763754e8",
   "metadata": {},
   "outputs": [
    {
     "name": "stdout",
     "output_type": "stream",
     "text": [
      "Percentage Male: 15.09009009009009 \n",
      " Percentage Female: 14.838129496402878 \n",
      " Percentage Asian: 25.0 \n",
      " Percentage Caucasian: 14.525462962962964 \n",
      " Percentage African: 16.071428571428573\n"
     ]
    }
   ],
   "source": [
    "percentageMale100, percentageFemale100, percentageAsian100, percentageCaucasian100, percentageAfrican100 = getPercentageofOrig(maleTest, maleTest100), getPercentageofOrig(femaleTest, femaleTest100), getPercentageofOrig(asianTest, asianTest100), getPercentageofOrig(caucasianTest, caucasianTest100), getPercentageofOrig(africanAmericanTest, africanAmericanTest100)\n",
    "print('Percentage Male: {} \\n Percentage Female: {} \\n Percentage Asian: {} \\n Percentage Caucasian: {} \\n Percentage African: {}'.format(percentageMale100, percentageFemale100, percentageAsian100, percentageCaucasian100, percentageAfrican100))"
   ]
  },
  {
   "cell_type": "code",
   "execution_count": 142,
   "id": "70d271e8",
   "metadata": {},
   "outputs": [
    {
     "name": "stdout",
     "output_type": "stream",
     "text": [
      "Percentage Male: 44.81605351170568 \n",
      " Percentage Female: 55.18394648829432 \n",
      " Percentage Asian: 4.013377926421405 \n",
      " Percentage Caucasian: 83.94648829431438 \n",
      " Percentage African: 12.040133779264215\n"
     ]
    }
   ],
   "source": [
    "percentageMale100, percentageFemale100, percentageAsian100, percentageCaucasian100, percentageAfrican100 = getPercentageofOrig(len(acc100), maleTest100), getPercentageofOrig(len(acc100), femaleTest100), getPercentageofOrig(len(acc100), asianTest100), getPercentageofOrig(len(acc100), caucasianTest100), getPercentageofOrig(len(acc100), africanAmericanTest100)\n",
    "print('Percentage Male: {} \\n Percentage Female: {} \\n Percentage Asian: {} \\n Percentage Caucasian: {} \\n Percentage African: {}'.format(percentageMale100, percentageFemale100, percentageAsian100, percentageCaucasian100, percentageAfrican100))"
   ]
  },
  {
   "cell_type": "code",
   "execution_count": 6,
   "id": "6929f1ff",
   "metadata": {},
   "outputs": [],
   "source": [
    "#-------Plot the results -------\n"
   ]
  },
  {
   "cell_type": "code",
   "execution_count": 232,
   "id": "96b149b4",
   "metadata": {},
   "outputs": [],
   "source": [
    "# Plot accuracy distribution\n",
    "x =['<= 50: 0 ', '> 0.50 and <= 0.75', '> 0.75 and <= 0.95', '> 0.95 and <= 1.00']\n",
    "y = [0, 31, 1669, 299]\n",
    "y2 = ['0 %', '1.55 %', '83.45 %', '15 %']"
   ]
  },
  {
   "cell_type": "code",
   "execution_count": 233,
   "id": "0c91f416",
   "metadata": {},
   "outputs": [],
   "source": [
    "acc5 = [0]\n",
    "acc75 = [31]\n",
    "acc95 = [1669]\n",
    "acc100 = [299]"
   ]
  },
  {
   "cell_type": "code",
   "execution_count": 239,
   "id": "ef19a5ee",
   "metadata": {},
   "outputs": [
    {
     "data": {
      "image/png": "[encoded data removed]",
      "text/plain": [
       "<Figure size 600x200 with 1 Axes>"
      ]
     },
     "metadata": {},
     "output_type": "display_data"
    }
   ],
   "source": [
    "fig, ax = plt.subplots(figsize=(6, 2))\n",
    "width = 0.75 # the width of the bars\n",
    "ind = np.arange(len(y))  # the x locations for the groups\n",
    "p1 = ax.barh(ind,y, width, color=[\"silver\", ], align='edge')\n",
    "#plt.legend(p1, labels=x)\n",
    "ax.set_yticks(ind+width/2)\n",
    "ax.set_yticklabels(x, minor=False)\n",
    "# I added this line\n",
    "ax.bar_label(p1, y2)\n",
    "#plt.xticks(np.arange(5),('Pre-clinical','Phase I','Phase II','Phase III', 'Approved'))\n",
    "\n",
    "#plt.xticks(len(2000))\n",
    "plt.margins(0.2,0.05)\n",
    "#plt.title('Mean Average Accuracy Distribution')\n",
    "#plt.ylabel('Mean Average Accuracy')\n",
    "#plt.legend(x, loc=4)\n",
    "plt.xlabel('Number of Test Data')\n",
    "plt.show()"
   ]
  },
  {
   "cell_type": "code",
   "execution_count": 144,
   "id": "dfa58dc2",
   "metadata": {},
   "outputs": [],
   "source": [
    "# Plot accuracy distribution\n",
    "x =['> 0.50 and <= 0.75', '> 0.75 and <= 0.95', '> 0.95 and <= 1.00']\n",
    "y = [31, 1669, 299]\n",
    "#y2 = ['0 %', '1.55 %', '83.45 %', '15 %']\n",
    "male = [percentageMale75, percentageMale90, percentageMale100]\n",
    "female = [percentageFemale75, percentageFemale90, percentageFemale100]"
   ]
  },
  {
   "cell_type": "code",
   "execution_count": 226,
   "id": "a7ac64d5",
   "metadata": {},
   "outputs": [
    {
     "data": {
      "image/png": "[encoded data removed]",
      "text/plain": [
       "<Figure size 640x480 with 1 Axes>"
      ]
     },
     "metadata": {},
     "output_type": "display_data"
    }
   ],
   "source": [
    "X_axis = np.arange(len(x))\n",
    "  \n",
    "plt.bar(X_axis - 0.2, male, 0.4, label = 'Male', color='royalblue')\n",
    "plt.bar(X_axis + 0.2, female, 0.4, label = 'Female', color='wheat')\n",
    "  \n",
    "plt.xticks(X_axis, x)\n",
    "plt.margins(0.05,0.2)\n",
    "plt.xlabel(\"Mean Average Accuracy\")\n",
    "plt.ylabel(\"Percentage of Gender within Prediction\")\n",
    "#plt.title(\"Gender Distribution within the Inference on Test Data\")\n",
    "plt.legend()\n",
    "plt.show()"
   ]
  },
  {
   "cell_type": "code",
   "execution_count": 164,
   "id": "10c93d6e",
   "metadata": {},
   "outputs": [],
   "source": []
  },
  {
   "cell_type": "code",
   "execution_count": 194,
   "id": "fe60379f",
   "metadata": {},
   "outputs": [],
   "source": [
    "#percentage distribution of MAA over ethnicity\n",
    "# Plot accuracy distribution\n",
    "x =['> 0.50 and <= 0.75', '> 0.75 and <= 0.95', '> 0.95 and <= 1.00']\n",
    "asian = [percentageAsian75, percentageAsian90, percentageAsian100]\n",
    "caucasian = [percentageCaucasian75, percentageCaucasian90, percentageCaucasian100]\n",
    "african = [percentageAfrican75, percentageAfrican90, percentageAfrican100]"
   ]
  },
  {
   "cell_type": "code",
   "execution_count": 225,
   "id": "b0fe39c1",
   "metadata": {},
   "outputs": [
    {
     "data": {
      "image/png": "[encoded data removed]",
      "text/plain": [
       "<Figure size 640x480 with 1 Axes>"
      ]
     },
     "metadata": {},
     "output_type": "display_data"
    }
   ],
   "source": [
    "X_axis = np.arange(len(x))\n",
    "  \n",
    "plt.bar(X_axis - 0.2, caucasian, 0.4, label = 'Caucasian', color='wheat')\n",
    "plt.bar(X_axis, african, 0.4, label = 'African American', color='royalblue')\n",
    "plt.bar(X_axis + 0.2, asian, 0.4, label = 'Asian', color='silver')\n",
    "  \n",
    "plt.xticks(X_axis, x)\n",
    "plt.margins(0.05,0.2)\n",
    "plt.xlabel(\"Mean Average Accuracy\")\n",
    "plt.ylabel(\"Percentage of Ethnicity within Prediction\")\n",
    "#plt.title(\"Ethnicity Distribution within the Inference on Test Data\")\n",
    "plt.legend()\n",
    "plt.show()"
   ]
  },
  {
   "cell_type": "code",
   "execution_count": 284,
   "id": "70634c74",
   "metadata": {},
   "outputs": [],
   "source": [
    "#percentage distribution of MAA over personality\n",
    "# Plot accuracy distribution\n",
    "x =['> 0.50 and <= 0.75', '> 0.75 and <= 0.95', '> 0.95 and <= 1.00']\n",
    "extra = [percentageExtra75, percentageExtra90, percentageExtra100]\n",
    "agree = [percentageAgree75, percentageAgree90, percentageAgree100]\n",
    "cons = [percentageCons75, percentageCons90, percentageCons100]\n",
    "neuro = [percentageNeuro75, percentageNeuro90, percentageNeuro100]\n",
    "openn = [percentageOpen75, percentageOpen90, percentageOpen100]\n",
    "#asian = [percentageAsian75, percentageAsian90, percentageAsian100]\n",
    "#caucasian = [percentageCaucasian75, percentageCaucasian90, percentageCaucasian100]\n",
    "#african = [percentageAfrican75, percentageAfrican90, percentageAfrican100]"
   ]
  },
  {
   "cell_type": "code",
   "execution_count": 323,
   "id": "8ae2817d",
   "metadata": {},
   "outputs": [
    {
     "data": {
      "image/png": "[encoded data removed]",
      "text/plain": [
       "<Figure size 640x480 with 1 Axes>"
      ]
     },
     "metadata": {},
     "output_type": "display_data"
    }
   ],
   "source": [
    "X_axis = np.arange(len(x))\n",
    "  \n",
    "plt.bar(X_axis - 0.2, extra, 0.1, label = 'Extraversion', color='wheat')\n",
    "plt.bar(X_axis - 0.1, agree, 0.1, label = 'Agreeableness', color='royalblue')\n",
    "plt.bar(X_axis, cons, 0.1, label = 'Consciousness', color='silver')\n",
    "plt.bar(X_axis + 0.1, neuro, 0.1, label = 'Neuroticism', color='black')\n",
    "plt.bar(X_axis + 0.2, openn, 0.1, label = 'Openness', color='green')\n",
    "  \n",
    "plt.xticks(X_axis, x)\n",
    "plt.margins(0.05,0.05)\n",
    "plt.xlabel(\"Mean Average Accuracy\")\n",
    "plt.ylabel(\"Percentage of Maximum Personality Trait\")\n",
    "#plt.title(\"Ethnicity Distribution within the Inference on Test Data\")\n",
    "plt.legend(bbox_to_anchor=(1, 1), borderaxespad=0.3)\n",
    "plt.show()"
   ]
  },
  {
   "cell_type": "code",
   "execution_count": null,
   "id": "64f0bc9c",
   "metadata": {},
   "outputs": [],
   "source": []
  }
 ],
 "metadata": {
  "kernelspec": {
   "display_name": "Python 3 (ipykernel)",
   "language": "python",
   "name": "python3"
  },
  "language_info": {
   "codemirror_mode": {
    "name": "ipython",
    "version": 3
   },
   "file_extension": ".py",
   "mimetype": "text/x-python",
   "name": "python",
   "nbconvert_exporter": "python",
   "pygments_lexer": "ipython3",
   "version": "3.8.8"
  }
 },
 "nbformat": 4,
 "nbformat_minor": 5
}
